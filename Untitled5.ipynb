{
 "cells": [
  {
   "cell_type": "code",
   "execution_count": 105,
   "id": "8aa5c719",
   "metadata": {},
   "outputs": [],
   "source": [
    "import requests\n",
    "import pandas as pd\n",
    "import requests\n",
    "import json\n",
    "from bs4 import BeautifulSoup"
   ]
  },
  {
   "cell_type": "code",
   "execution_count": 106,
   "id": "8da856c9",
   "metadata": {},
   "outputs": [],
   "source": [
    "df=pd.read_csv(\"C:\\simulation\\destinations_LP_crawler_Ex5.csv\", encoding='ISO-8859-1')\n",
    "LP_destinations = pd.DataFrame(df[\"city\"])\n",
    "country =  []\n",
    "description = []"
   ]
  },
  {
   "cell_type": "code",
   "execution_count": 108,
   "id": "feb78f9c",
   "metadata": {},
   "outputs": [],
   "source": [
    "key =  #put your key here"
   ]
  },
  {
   "cell_type": "code",
   "execution_count": 109,
   "id": "24b287af",
   "metadata": {
    "scrolled": false
   },
   "outputs": [],
   "source": [
    "for c in range(len(df)): \n",
    "    try:\n",
    "        url = \"https://maps.googleapis.com/maps/api/geocode/json?address=%s&key=%s\" % (df.loc[c,'city'], key)\n",
    "        response = requests.get(url)\n",
    "        rj = response.json()\n",
    "        country_of = rj['results'][0]['formatted_address'].split(\",\")[-1].rstrip().lstrip()\n",
    "        try:\n",
    "            f = int(country_of.split()[0])\n",
    "            country_of = rj['results'][0]['formatted_address'].split(\",\")[1].strip()\n",
    "            country.append(country_of)\n",
    "        except:\n",
    "            country.append(country_of)\n",
    "    except:\n",
    "        url = \"https://maps.googleapis.com/maps/api/geocode/json?address=%s&key=%s\" % (df.loc[c,'city_LP'], key)\n",
    "        response = requests.get(url)\n",
    "        rj = response.json()\n",
    "        i = len(rj[\"results\"][0][\"address_components\"])-1\n",
    "        country_of = rj['results'][0]['formatted_address'].split(\",\")[-1].rstrip().lstrip()\n",
    "        country.append(country_of)"
   ]
  },
  {
   "cell_type": "code",
   "execution_count": 110,
   "id": "f4622fd9",
   "metadata": {},
   "outputs": [],
   "source": [
    "df[\"country\"] = country\n",
    "LP_destinations[\"Country\"] = country"
   ]
  },
  {
   "cell_type": "code",
   "execution_count": 111,
   "id": "347af13a",
   "metadata": {},
   "outputs": [],
   "source": [
    "for i in range(len(df)):\n",
    "    try:\n",
    "        if df.loc[i,'country'].startswith(\"Odessa\"): \n",
    "            df.loc[i,'country'] = \"Ukraine\"\n",
    "        url1 = \"https://www.lonelyplanet.com/%s/%s\"% (df.loc[i,'country'],df.loc[i,'city_LP'])\n",
    "        response = requests.get(url1)\n",
    "        beauti = BeautifulSoup(response.content, 'html.parser')\n",
    "        Main_tag = beauti.find(\"section\", { \"id\" : \"introduction\" })\n",
    "        Text_tag = Main_tag.find('p').text\n",
    "        description.append(Text_tag)\n",
    "    except:\n",
    "        print(\"error\",i)\n",
    "LP_destinations[\"Description\"] = description"
   ]
  },
  {
   "cell_type": "code",
   "execution_count": 112,
   "id": "b87f2273",
   "metadata": {},
   "outputs": [
    {
     "data": {
      "text/html": [
       "<div>\n",
       "<style scoped>\n",
       "    .dataframe tbody tr th:only-of-type {\n",
       "        vertical-align: middle;\n",
       "    }\n",
       "\n",
       "    .dataframe tbody tr th {\n",
       "        vertical-align: top;\n",
       "    }\n",
       "\n",
       "    .dataframe thead th {\n",
       "        text-align: right;\n",
       "    }\n",
       "</style>\n",
       "<table border=\"1\" class=\"dataframe\">\n",
       "  <thead>\n",
       "    <tr style=\"text-align: right;\">\n",
       "      <th></th>\n",
       "      <th>city</th>\n",
       "      <th>Country</th>\n",
       "      <th>Description</th>\n",
       "    </tr>\n",
       "  </thead>\n",
       "  <tbody>\n",
       "    <tr>\n",
       "      <th>0</th>\n",
       "      <td>Antalya</td>\n",
       "      <td>Turkey</td>\n",
       "      <td>Once seen simply as the gateway to the Turkish...</td>\n",
       "    </tr>\n",
       "    <tr>\n",
       "      <th>1</th>\n",
       "      <td>Athens</td>\n",
       "      <td>Greece</td>\n",
       "      <td>With equal measures of grunge and grace, Athen...</td>\n",
       "    </tr>\n",
       "    <tr>\n",
       "      <th>2</th>\n",
       "      <td>Ayia-napa</td>\n",
       "      <td>Cyprus</td>\n",
       "      <td>Endless blue-sky days and a coastline riddled ...</td>\n",
       "    </tr>\n",
       "    <tr>\n",
       "      <th>3</th>\n",
       "      <td>Bangkok</td>\n",
       "      <td>Thailand</td>\n",
       "      <td>Same same, but different. This Thailish T-shir...</td>\n",
       "    </tr>\n",
       "    <tr>\n",
       "      <th>4</th>\n",
       "      <td>Barcelona</td>\n",
       "      <td>Spain</td>\n",
       "      <td>Barcelona is an enchanting seaside city with b...</td>\n",
       "    </tr>\n",
       "    <tr>\n",
       "      <th>...</th>\n",
       "      <td>...</td>\n",
       "      <td>...</td>\n",
       "      <td>...</td>\n",
       "    </tr>\n",
       "    <tr>\n",
       "      <th>71</th>\n",
       "      <td>Venice</td>\n",
       "      <td>Italy</td>\n",
       "      <td>Imagine the audacity of building a city of mar...</td>\n",
       "    </tr>\n",
       "    <tr>\n",
       "      <th>72</th>\n",
       "      <td>Vienna</td>\n",
       "      <td>Austria</td>\n",
       "      <td>Baroque streetscapes and imperial palaces set ...</td>\n",
       "    </tr>\n",
       "    <tr>\n",
       "      <th>73</th>\n",
       "      <td>Warsaw</td>\n",
       "      <td>Poland</td>\n",
       "      <td>A phoenix arisen from the ashes, Poland's capi...</td>\n",
       "    </tr>\n",
       "    <tr>\n",
       "      <th>74</th>\n",
       "      <td>Zakynthos</td>\n",
       "      <td>Greece</td>\n",
       "      <td>Zakynthos, also known by its Italian name Zant...</td>\n",
       "    </tr>\n",
       "    <tr>\n",
       "      <th>75</th>\n",
       "      <td>Zurich</td>\n",
       "      <td>Switzerland</td>\n",
       "      <td>Culturally vibrant, efficiently run and attrac...</td>\n",
       "    </tr>\n",
       "  </tbody>\n",
       "</table>\n",
       "<p>76 rows × 3 columns</p>\n",
       "</div>"
      ],
      "text/plain": [
       "         city      Country                                        Description\n",
       "0     Antalya       Turkey  Once seen simply as the gateway to the Turkish...\n",
       "1      Athens       Greece  With equal measures of grunge and grace, Athen...\n",
       "2   Ayia-napa       Cyprus  Endless blue-sky days and a coastline riddled ...\n",
       "3     Bangkok     Thailand  Same same, but different. This Thailish T-shir...\n",
       "4   Barcelona        Spain  Barcelona is an enchanting seaside city with b...\n",
       "..        ...          ...                                                ...\n",
       "71     Venice        Italy  Imagine the audacity of building a city of mar...\n",
       "72     Vienna      Austria  Baroque streetscapes and imperial palaces set ...\n",
       "73     Warsaw       Poland  A phoenix arisen from the ashes, Poland's capi...\n",
       "74  Zakynthos       Greece  Zakynthos, also known by its Italian name Zant...\n",
       "75     Zurich  Switzerland  Culturally vibrant, efficiently run and attrac...\n",
       "\n",
       "[76 rows x 3 columns]"
      ]
     },
     "execution_count": 112,
     "metadata": {},
     "output_type": "execute_result"
    }
   ],
   "source": [
    "LP_destinations"
   ]
  },
  {
   "cell_type": "code",
   "execution_count": 113,
   "id": "454864a4",
   "metadata": {},
   "outputs": [],
   "source": [
    "LP_destinations.to_csv('LP_destinations.csv', index=False)"
   ]
  }
 ],
 "metadata": {
  "kernelspec": {
   "display_name": "Python 3 (ipykernel)",
   "language": "python",
   "name": "python3"
  },
  "language_info": {
   "codemirror_mode": {
    "name": "ipython",
    "version": 3
   },
   "file_extension": ".py",
   "mimetype": "text/x-python",
   "name": "python",
   "nbconvert_exporter": "python",
   "pygments_lexer": "ipython3",
   "version": "3.9.7"
  }
 },
 "nbformat": 4,
 "nbformat_minor": 5
}
